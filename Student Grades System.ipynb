{
 "cells": [
  {
   "cell_type": "markdown",
   "id": "eb8b2d78",
   "metadata": {},
   "source": [
    "### Import library"
   ]
  },
  {
   "cell_type": "markdown",
   "id": "92c8f31c",
   "metadata": {},
   "source": [
    "#### Dict for storing data"
   ]
  },
  {
   "cell_type": "code",
   "execution_count": 1,
   "id": "939efa5d",
   "metadata": {},
   "outputs": [],
   "source": [
    "students = {}"
   ]
  },
  {
   "cell_type": "markdown",
   "id": "e22499cb",
   "metadata": {},
   "source": [
    "###  Add Students"
   ]
  },
  {
   "cell_type": "code",
   "execution_count": 2,
   "id": "c00a334d",
   "metadata": {},
   "outputs": [],
   "source": [
    "def add_student(student_name):\n",
    "    if student_name not in students:\n",
    "        students[student_name] = {}\n",
    "        print(f\"Student {student_name} added.\")\n",
    "    else:\n",
    "        print(f\"Student {student_name} already exists.\")"
   ]
  },
  {
   "cell_type": "markdown",
   "id": "bb14b733",
   "metadata": {},
   "source": [
    "### Add Subjects"
   ]
  },
  {
   "cell_type": "code",
   "execution_count": 3,
   "id": "0f91757c",
   "metadata": {},
   "outputs": [],
   "source": [
    "def add_subject(student_name, subject_name):\n",
    "    if student_name in students:\n",
    "        if subject_name not in students[student_name]:\n",
    "            students[student_name][subject_name] = []\n",
    "            print(f\"Subject {subject_name} added for student {student_name}.\")\n",
    "        else:\n",
    "            print(f\"Subject {subject_name} already exists for student {student_name}.\")\n",
    "    else:\n",
    "        print(f\"Student {student_name} does not exist.\")"
   ]
  },
  {
   "cell_type": "markdown",
   "id": "b1fc460c",
   "metadata": {},
   "source": [
    "### Record Grades"
   ]
  },
  {
   "cell_type": "code",
   "execution_count": 4,
   "id": "2e3b042d",
   "metadata": {},
   "outputs": [],
   "source": [
    "def record_grade(student_name, subject_name, grade):\n",
    "    if student_name in students:\n",
    "        if subject_name in students[student_name]:\n",
    "            students[student_name][subject_name].append(grade)\n",
    "            print(f\"Grade {grade} recorded for student {student_name} in subject {subject_name}.\")\n",
    "        else:\n",
    "            print(f\"Subject {subject_name} does not exist for student {student_name}.\")\n",
    "    else:\n",
    "        print(f\"Student {student_name} does not exist.\")"
   ]
  },
  {
   "cell_type": "markdown",
   "id": "dea1d181",
   "metadata": {},
   "source": [
    "###  Calculate Average Grades"
   ]
  },
  {
   "cell_type": "code",
   "execution_count": 5,
   "id": "b24390f1",
   "metadata": {},
   "outputs": [],
   "source": [
    "def calculate_average_grades():\n",
    "    averages = {}\n",
    "    for student_name, subjects in students.items():\n",
    "        total_grades = 0\n",
    "        count = 0\n",
    "        for grades in subjects.values():\n",
    "            total_grades += sum(grades)\n",
    "            count += len(grades)\n",
    "        if count > 0:\n",
    "            averages[student_name] = total_grades / count\n",
    "        else:\n",
    "            averages[student_name] = 0\n",
    "    return averages"
   ]
  },
  {
   "cell_type": "markdown",
   "id": "b84f3d90",
   "metadata": {},
   "source": [
    "### Determine the Top Student"
   ]
  },
  {
   "cell_type": "code",
   "execution_count": 6,
   "id": "93271a09",
   "metadata": {},
   "outputs": [],
   "source": [
    "def determine_top_student():\n",
    "    averages = calculate_average_grades()\n",
    "    if averages:\n",
    "        top_student = max(averages, key=averages.get)\n",
    "        return top_student, averages[top_student]\n",
    "    else:\n",
    "        return None, 0"
   ]
  },
  {
   "cell_type": "markdown",
   "id": "164cb721",
   "metadata": {},
   "source": [
    "### Store data"
   ]
  },
  {
   "cell_type": "code",
   "execution_count": 8,
   "id": "6cf4fe8b",
   "metadata": {},
   "outputs": [
    {
     "name": "stdout",
     "output_type": "stream",
     "text": [
      "Student Alice added.\n",
      "Subject Math added for student Alice.\n",
      "Subject Science added for student Alice.\n",
      "Grade 90 recorded for student Alice in subject Math.\n",
      "Grade 85 recorded for student Alice in subject Science.\n",
      "Student Bob added.\n",
      "Subject Math added for student Bob.\n",
      "Grade 95 recorded for student Bob in subject Math.\n",
      "Student Alie added.\n",
      "Subject Math added for student Alie.\n",
      "Grade 90 recorded for student Alie in subject Math.\n",
      "Student Ale added.\n",
      "Subject Math added for student Ale.\n",
      "Grade 90 recorded for student Ale in subject Math.\n",
      "Student Kim added.\n",
      "Subject Economics added for student Kim.\n",
      "Grade 90 recorded for student Kim in subject Economics.\n",
      "Student Leo added.\n",
      "Subject Statistics added for student Leo.\n",
      "Grade 82 recorded for student Leo in subject Statistics.\n",
      "Student Mia added.\n",
      "Subject Philosophy added for student Mia.\n",
      "Grade 87 recorded for student Mia in subject Philosophy.\n",
      "Student Nia added.\n",
      "Subject Sociology added for student Nia.\n",
      "Grade 86 recorded for student Nia in subject Sociology.\n",
      "Student Omar added.\n",
      "Subject Engineering added for student Omar.\n",
      "Grade 88 recorded for student Omar in subject Engineering.\n",
      "Student Pia added.\n",
      "Subject Psychology added for student Pia.\n",
      "Grade 94 recorded for student Pia in subject Psychology.\n",
      "Student Quinn added.\n",
      "Subject  Science added for student Quinn.\n",
      "Grade 89 recorded for student Quinn in subject  Science.\n",
      "Student Rex added.\n",
      "Subject Design added for student Rex.\n",
      "Grade 84 recorded for student Rex in subject Design.\n",
      "Student Sara added.\n",
      "Subject Literature added for student Sara.\n",
      "Grade 91 recorded for student Sara in subject Literature.\n",
      "Student Tom added.\n",
      "Subject Astronomy added for student Tom.\n",
      "Grade 90 recorded for student Tom in subject Astronomy.\n",
      "Student Fay added.\n",
      "Subject Biology added for student Fay.\n",
      "Grade 89 recorded for student Fay in subject Biology.\n",
      "Student Gus added.\n",
      "Subject Chemistry added for student Gus.\n",
      "Grade 84 recorded for student Gus in subject Chemistry.\n",
      "Student Hana added.\n",
      "Subject Physics added for student Hana.\n",
      "Grade 91 recorded for student Hana in subject Physics.\n",
      "Student Ian added.\n",
      "Subject Geography added for student Ian.\n",
      "Grade 87 recorded for student Ian in subject Geography.\n",
      "Student Jill added.\n",
      "Subject Music added for student Jill.\n",
      "Grade 93 recorded for student Jill in subject Music.\n",
      "Average Grades: {'Alice': 87.5, 'Bob': 95.0, 'Alie': 90.0, 'Ale': 90.0, 'Kim': 90.0, 'Leo': 82.0, 'Mia': 87.0, 'Nia': 86.0, 'Omar': 88.0, 'Pia': 94.0, 'Quinn': 89.0, 'Rex': 84.0, 'Sara': 91.0, 'Tom': 90.0, 'Fay': 89.0, 'Gus': 84.0, 'Hana': 91.0, 'Ian': 87.0, 'Jill': 93.0}\n",
      "Top Student: Bob with an average grade of 95.0\n"
     ]
    }
   ],
   "source": [
    "add_student(\"Alice\")\n",
    "add_subject(\"Alice\", \"Math\")\n",
    "add_subject(\"Alice\", \"Science\")\n",
    "record_grade(\"Alice\", \"Math\", 90)\n",
    "record_grade(\"Alice\", \"Science\", 85)\n",
    "\n",
    "add_student(\"Bob\")\n",
    "add_subject(\"Bob\", \"Math\")\n",
    "record_grade(\"Bob\", \"Math\", 95)\n",
    "\n",
    "add_student(\"Alie\")\n",
    "add_subject(\"Alie\", \"Math\")\n",
    "record_grade(\"Alie\", \"Math\", 90)\n",
    "\n",
    "add_student(\"Ale\")\n",
    "add_subject(\"Ale\", \"Math\")\n",
    "record_grade(\"Ale\", \"Math\", 90)\n",
    "\n",
    "add_student(\"Kim\")\n",
    "add_subject(\"Kim\", \"Economics\")\n",
    "record_grade(\"Kim\", \"Economics\", 90)\n",
    "\n",
    "add_student(\"Leo\")\n",
    "add_subject(\"Leo\", \"Statistics\")\n",
    "record_grade(\"Leo\", \"Statistics\", 82)\n",
    "\n",
    "add_student(\"Mia\")\n",
    "add_subject(\"Mia\", \"Philosophy\")\n",
    "record_grade(\"Mia\", \"Philosophy\", 87)\n",
    "\n",
    "add_student(\"Nia\")\n",
    "add_subject(\"Nia\", \"Sociology\")\n",
    "record_grade(\"Nia\", \"Sociology\", 86)\n",
    "\n",
    "add_student(\"Omar\")\n",
    "add_subject(\"Omar\", \"Engineering\")\n",
    "record_grade(\"Omar\", \"Engineering\", 88)\n",
    "\n",
    "add_student(\"Pia\")\n",
    "add_subject(\"Pia\", \"Psychology\")\n",
    "record_grade(\"Pia\", \"Psychology\", 94)\n",
    "\n",
    "add_student(\"Quinn\")\n",
    "add_subject(\"Quinn\", \" Science\")\n",
    "record_grade(\"Quinn\", \" Science\", 89)\n",
    "\n",
    "add_student(\"Rex\")\n",
    "add_subject(\"Rex\", \"Design\")\n",
    "record_grade(\"Rex\", \"Design\", 84)\n",
    "\n",
    "add_student(\"Sara\")\n",
    "add_subject(\"Sara\", \"Literature\")\n",
    "record_grade(\"Sara\", \"Literature\", 91)\n",
    "\n",
    "add_student(\"Tom\")\n",
    "add_subject(\"Tom\", \"Astronomy\")\n",
    "record_grade(\"Tom\", \"Astronomy\", 90)\n",
    "\n",
    "add_student(\"Fay\")\n",
    "add_subject(\"Fay\", \"Biology\")\n",
    "record_grade(\"Fay\", \"Biology\", 89)\n",
    "\n",
    "add_student(\"Gus\")\n",
    "add_subject(\"Gus\", \"Chemistry\")\n",
    "record_grade(\"Gus\", \"Chemistry\", 84)\n",
    "\n",
    "add_student(\"Hana\")\n",
    "add_subject(\"Hana\", \"Physics\")\n",
    "record_grade(\"Hana\", \"Physics\", 91)\n",
    "\n",
    "add_student(\"Ian\")\n",
    "add_subject(\"Ian\", \"Geography\")\n",
    "record_grade(\"Ian\", \"Geography\", 87)\n",
    "\n",
    "add_student(\"Jill\")\n",
    "add_subject(\"Jill\", \"Music\")\n",
    "record_grade(\"Jill\", \"Music\", 93)\n",
    "\n",
    "\n",
    "\n",
    "averages = calculate_average_grades()\n",
    "print(\"Average Grades:\", averages)\n",
    "\n",
    "\n"
   ]
  }
 ],
 "metadata": {
  "kernelspec": {
   "display_name": "Python 3 (ipykernel)",
   "language": "python",
   "name": "python3"
  },
  "language_info": {
   "codemirror_mode": {
    "name": "ipython",
    "version": 3
   },
   "file_extension": ".py",
   "mimetype": "text/x-python",
   "name": "python",
   "nbconvert_exporter": "python",
   "pygments_lexer": "ipython3",
   "version": "3.12.4"
  }
 },
 "nbformat": 4,
 "nbformat_minor": 5
}
